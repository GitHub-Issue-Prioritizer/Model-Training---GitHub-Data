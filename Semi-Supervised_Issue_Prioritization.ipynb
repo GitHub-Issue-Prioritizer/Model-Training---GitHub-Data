{
  "cells": [
    {
      "cell_type": "code",
      "execution_count": 1,
      "metadata": {
        "id": "t5nXFLZnqXMQ"
      },
      "outputs": [],
      "source": [
        "import pandas as pd\n",
        "import numpy as np"
      ]
    },
    {
      "cell_type": "code",
      "execution_count": 2,
      "metadata": {
        "id": "VBuwQelOrCTJ"
      },
      "outputs": [],
      "source": [
        "df = pd.read_excel('combined_issues.xlsx')"
      ]
    },
    {
      "cell_type": "code",
      "execution_count": 3,
      "metadata": {
        "colab": {
          "base_uri": "https://localhost:8080/",
          "height": 486
        },
        "id": "zFQtspjmrIkv",
        "outputId": "a369a9d4-cacf-43a0-a1aa-ec5231221db6"
      },
      "outputs": [
        {
          "data": {
            "text/html": [
              "<div>\n",
              "<style scoped>\n",
              "    .dataframe tbody tr th:only-of-type {\n",
              "        vertical-align: middle;\n",
              "    }\n",
              "\n",
              "    .dataframe tbody tr th {\n",
              "        vertical-align: top;\n",
              "    }\n",
              "\n",
              "    .dataframe thead th {\n",
              "        text-align: right;\n",
              "    }\n",
              "</style>\n",
              "<table border=\"1\" class=\"dataframe\">\n",
              "  <thead>\n",
              "    <tr style=\"text-align: right;\">\n",
              "      <th></th>\n",
              "      <th>id</th>\n",
              "      <th>title</th>\n",
              "      <th>state</th>\n",
              "      <th>created_at</th>\n",
              "      <th>updated_at</th>\n",
              "      <th>closed_at</th>\n",
              "      <th>comments</th>\n",
              "      <th>assignee_names</th>\n",
              "      <th>assignee_count</th>\n",
              "      <th>label_names</th>\n",
              "      <th>label_count</th>\n",
              "      <th>pr_associated</th>\n",
              "      <th>comment_priority</th>\n",
              "      <th>top_labels</th>\n",
              "      <th>Top_label_1</th>\n",
              "      <th>Top_label_2</th>\n",
              "      <th>Top_label_3</th>\n",
              "      <th>priority</th>\n",
              "    </tr>\n",
              "  </thead>\n",
              "  <tbody>\n",
              "    <tr>\n",
              "      <th>0</th>\n",
              "      <td>1932752667</td>\n",
              "      <td>[FullSimplify] Produces syntactically incorrec...</td>\n",
              "      <td>open</td>\n",
              "      <td>2023-10-09T10:24:01Z</td>\n",
              "      <td>2023-10-13T13:43:56Z</td>\n",
              "      <td>NaN</td>\n",
              "      <td>1</td>\n",
              "      <td>[]</td>\n",
              "      <td>0</td>\n",
              "      <td>['bug :bug:', 'testing :hammer:', 'low effort'...</td>\n",
              "      <td>5</td>\n",
              "      <td>0</td>\n",
              "      <td>3</td>\n",
              "      <td>['bug :bug:', 'external contribution :star:', ...</td>\n",
              "      <td>1</td>\n",
              "      <td>0</td>\n",
              "      <td>0</td>\n",
              "      <td>1</td>\n",
              "    </tr>\n",
              "    <tr>\n",
              "      <th>1</th>\n",
              "      <td>1928532015</td>\n",
              "      <td>Cannot use word `_offset` in local variable na...</td>\n",
              "      <td>open</td>\n",
              "      <td>2023-10-05T15:12:51Z</td>\n",
              "      <td>2023-10-06T17:22:56Z</td>\n",
              "      <td>NaN</td>\n",
              "      <td>1</td>\n",
              "      <td>[]</td>\n",
              "      <td>0</td>\n",
              "      <td>['bug :bug:', 'medium effort', 'low impact', '...</td>\n",
              "      <td>4</td>\n",
              "      <td>0</td>\n",
              "      <td>3</td>\n",
              "      <td>['bug :bug:', 'external contribution :star:', ...</td>\n",
              "      <td>1</td>\n",
              "      <td>0</td>\n",
              "      <td>0</td>\n",
              "      <td>1</td>\n",
              "    </tr>\n",
              "    <tr>\n",
              "      <th>2</th>\n",
              "      <td>1926687687</td>\n",
              "      <td>Add `assemblyJson` as an alias for `legacyAsse...</td>\n",
              "      <td>open</td>\n",
              "      <td>2023-10-04T17:36:50Z</td>\n",
              "      <td>2023-10-04T17:36:50Z</td>\n",
              "      <td>NaN</td>\n",
              "      <td>0</td>\n",
              "      <td>[]</td>\n",
              "      <td>0</td>\n",
              "      <td>['protocol design :crystal_ball:', 'low effort...</td>\n",
              "      <td>5</td>\n",
              "      <td>0</td>\n",
              "      <td>3</td>\n",
              "      <td>['bug :bug:', 'external contribution :star:', ...</td>\n",
              "      <td>0</td>\n",
              "      <td>0</td>\n",
              "      <td>0</td>\n",
              "      <td>1</td>\n",
              "    </tr>\n",
              "    <tr>\n",
              "      <th>3</th>\n",
              "      <td>1890794042</td>\n",
              "      <td>Boost-version-dependent trailing slash in rela...</td>\n",
              "      <td>open</td>\n",
              "      <td>2023-09-11T15:44:49Z</td>\n",
              "      <td>2023-09-11T15:57:44Z</td>\n",
              "      <td>NaN</td>\n",
              "      <td>2</td>\n",
              "      <td>[]</td>\n",
              "      <td>0</td>\n",
              "      <td>['bug :bug:', 'low effort', 'low impact', 'mus...</td>\n",
              "      <td>4</td>\n",
              "      <td>0</td>\n",
              "      <td>2</td>\n",
              "      <td>['bug :bug:', 'external contribution :star:', ...</td>\n",
              "      <td>1</td>\n",
              "      <td>0</td>\n",
              "      <td>0</td>\n",
              "      <td>1</td>\n",
              "    </tr>\n",
              "    <tr>\n",
              "      <th>4</th>\n",
              "      <td>1890707839</td>\n",
              "      <td>Backslash intepretation in relative import pat...</td>\n",
              "      <td>open</td>\n",
              "      <td>2023-09-11T14:58:55Z</td>\n",
              "      <td>2023-09-11T15:29:26Z</td>\n",
              "      <td>NaN</td>\n",
              "      <td>4</td>\n",
              "      <td>[]</td>\n",
              "      <td>0</td>\n",
              "      <td>['bug :bug:', 'low effort', 'low impact', 'mus...</td>\n",
              "      <td>4</td>\n",
              "      <td>0</td>\n",
              "      <td>1</td>\n",
              "      <td>['bug :bug:', 'external contribution :star:', ...</td>\n",
              "      <td>1</td>\n",
              "      <td>0</td>\n",
              "      <td>0</td>\n",
              "      <td>1</td>\n",
              "    </tr>\n",
              "  </tbody>\n",
              "</table>\n",
              "</div>"
            ],
            "text/plain": [
              "           id                                              title state  \\\n",
              "0  1932752667  [FullSimplify] Produces syntactically incorrec...  open   \n",
              "1  1928532015  Cannot use word `_offset` in local variable na...  open   \n",
              "2  1926687687  Add `assemblyJson` as an alias for `legacyAsse...  open   \n",
              "3  1890794042  Boost-version-dependent trailing slash in rela...  open   \n",
              "4  1890707839  Backslash intepretation in relative import pat...  open   \n",
              "\n",
              "             created_at            updated_at closed_at  comments  \\\n",
              "0  2023-10-09T10:24:01Z  2023-10-13T13:43:56Z       NaN         1   \n",
              "1  2023-10-05T15:12:51Z  2023-10-06T17:22:56Z       NaN         1   \n",
              "2  2023-10-04T17:36:50Z  2023-10-04T17:36:50Z       NaN         0   \n",
              "3  2023-09-11T15:44:49Z  2023-09-11T15:57:44Z       NaN         2   \n",
              "4  2023-09-11T14:58:55Z  2023-09-11T15:29:26Z       NaN         4   \n",
              "\n",
              "  assignee_names  assignee_count  \\\n",
              "0             []               0   \n",
              "1             []               0   \n",
              "2             []               0   \n",
              "3             []               0   \n",
              "4             []               0   \n",
              "\n",
              "                                         label_names  label_count  \\\n",
              "0  ['bug :bug:', 'testing :hammer:', 'low effort'...            5   \n",
              "1  ['bug :bug:', 'medium effort', 'low impact', '...            4   \n",
              "2  ['protocol design :crystal_ball:', 'low effort...            5   \n",
              "3  ['bug :bug:', 'low effort', 'low impact', 'mus...            4   \n",
              "4  ['bug :bug:', 'low effort', 'low impact', 'mus...            4   \n",
              "\n",
              "   pr_associated  comment_priority  \\\n",
              "0              0                 3   \n",
              "1              0                 3   \n",
              "2              0                 3   \n",
              "3              0                 2   \n",
              "4              0                 1   \n",
              "\n",
              "                                          top_labels  Top_label_1  \\\n",
              "0  ['bug :bug:', 'external contribution :star:', ...            1   \n",
              "1  ['bug :bug:', 'external contribution :star:', ...            1   \n",
              "2  ['bug :bug:', 'external contribution :star:', ...            0   \n",
              "3  ['bug :bug:', 'external contribution :star:', ...            1   \n",
              "4  ['bug :bug:', 'external contribution :star:', ...            1   \n",
              "\n",
              "   Top_label_2  Top_label_3  priority  \n",
              "0            0            0         1  \n",
              "1            0            0         1  \n",
              "2            0            0         1  \n",
              "3            0            0         1  \n",
              "4            0            0         1  "
            ]
          },
          "execution_count": 3,
          "metadata": {},
          "output_type": "execute_result"
        }
      ],
      "source": [
        "df.head()"
      ]
    },
    {
      "cell_type": "code",
      "execution_count": 4,
      "metadata": {
        "colab": {
          "base_uri": "https://localhost:8080/"
        },
        "id": "k99-YE0ErKXb",
        "outputId": "41caa5eb-3d4a-4ee7-e4a5-181ed902378f"
      },
      "outputs": [
        {
          "name": "stdout",
          "output_type": "stream",
          "text": [
            "<class 'pandas.core.frame.DataFrame'>\n",
            "RangeIndex: 11537 entries, 0 to 11536\n",
            "Data columns (total 18 columns):\n",
            " #   Column            Non-Null Count  Dtype \n",
            "---  ------            --------------  ----- \n",
            " 0   id                11537 non-null  int64 \n",
            " 1   title             11537 non-null  object\n",
            " 2   state             11537 non-null  object\n",
            " 3   created_at        11537 non-null  object\n",
            " 4   updated_at        11537 non-null  object\n",
            " 5   closed_at         7747 non-null   object\n",
            " 6   comments          11537 non-null  int64 \n",
            " 7   assignee_names    11537 non-null  object\n",
            " 8   assignee_count    11537 non-null  int64 \n",
            " 9   label_names       11537 non-null  object\n",
            " 10  label_count       11537 non-null  int64 \n",
            " 11  pr_associated     11537 non-null  int64 \n",
            " 12  comment_priority  11537 non-null  int64 \n",
            " 13  top_labels        11537 non-null  object\n",
            " 14  Top_label_1       11537 non-null  int64 \n",
            " 15  Top_label_2       11537 non-null  int64 \n",
            " 16  Top_label_3       11537 non-null  int64 \n",
            " 17  priority          11537 non-null  int64 \n",
            "dtypes: int64(10), object(8)\n",
            "memory usage: 1.6+ MB\n"
          ]
        }
      ],
      "source": [
        "df.info()"
      ]
    },
    {
      "cell_type": "code",
      "execution_count": 5,
      "metadata": {
        "colab": {
          "base_uri": "https://localhost:8080/",
          "height": 300
        },
        "id": "X2giiJVQrLHQ",
        "outputId": "e7349356-f402-4144-8920-0803694ea8ff"
      },
      "outputs": [
        {
          "data": {
            "text/html": [
              "<div>\n",
              "<style scoped>\n",
              "    .dataframe tbody tr th:only-of-type {\n",
              "        vertical-align: middle;\n",
              "    }\n",
              "\n",
              "    .dataframe tbody tr th {\n",
              "        vertical-align: top;\n",
              "    }\n",
              "\n",
              "    .dataframe thead th {\n",
              "        text-align: right;\n",
              "    }\n",
              "</style>\n",
              "<table border=\"1\" class=\"dataframe\">\n",
              "  <thead>\n",
              "    <tr style=\"text-align: right;\">\n",
              "      <th></th>\n",
              "      <th>id</th>\n",
              "      <th>comments</th>\n",
              "      <th>assignee_count</th>\n",
              "      <th>label_count</th>\n",
              "      <th>pr_associated</th>\n",
              "      <th>comment_priority</th>\n",
              "      <th>Top_label_1</th>\n",
              "      <th>Top_label_2</th>\n",
              "      <th>Top_label_3</th>\n",
              "      <th>priority</th>\n",
              "    </tr>\n",
              "  </thead>\n",
              "  <tbody>\n",
              "    <tr>\n",
              "      <th>count</th>\n",
              "      <td>1.153700e+04</td>\n",
              "      <td>11537.000000</td>\n",
              "      <td>11537.000000</td>\n",
              "      <td>11537.000000</td>\n",
              "      <td>11537.000000</td>\n",
              "      <td>11537.000000</td>\n",
              "      <td>11537.000000</td>\n",
              "      <td>11537.000000</td>\n",
              "      <td>11537.000000</td>\n",
              "      <td>11537.000000</td>\n",
              "    </tr>\n",
              "    <tr>\n",
              "      <th>mean</th>\n",
              "      <td>1.548334e+09</td>\n",
              "      <td>4.651036</td>\n",
              "      <td>0.298865</td>\n",
              "      <td>3.882205</td>\n",
              "      <td>0.302158</td>\n",
              "      <td>1.735460</td>\n",
              "      <td>0.501604</td>\n",
              "      <td>0.263067</td>\n",
              "      <td>0.223455</td>\n",
              "      <td>2.377308</td>\n",
              "    </tr>\n",
              "    <tr>\n",
              "      <th>std</th>\n",
              "      <td>3.331343e+08</td>\n",
              "      <td>5.770016</td>\n",
              "      <td>0.479604</td>\n",
              "      <td>1.875986</td>\n",
              "      <td>0.459213</td>\n",
              "      <td>0.860232</td>\n",
              "      <td>0.500019</td>\n",
              "      <td>0.440317</td>\n",
              "      <td>0.416579</td>\n",
              "      <td>0.757337</td>\n",
              "    </tr>\n",
              "    <tr>\n",
              "      <th>min</th>\n",
              "      <td>1.743948e+08</td>\n",
              "      <td>0.000000</td>\n",
              "      <td>0.000000</td>\n",
              "      <td>1.000000</td>\n",
              "      <td>0.000000</td>\n",
              "      <td>1.000000</td>\n",
              "      <td>0.000000</td>\n",
              "      <td>0.000000</td>\n",
              "      <td>0.000000</td>\n",
              "      <td>1.000000</td>\n",
              "    </tr>\n",
              "    <tr>\n",
              "      <th>25%</th>\n",
              "      <td>1.382611e+09</td>\n",
              "      <td>2.000000</td>\n",
              "      <td>0.000000</td>\n",
              "      <td>3.000000</td>\n",
              "      <td>0.000000</td>\n",
              "      <td>1.000000</td>\n",
              "      <td>0.000000</td>\n",
              "      <td>0.000000</td>\n",
              "      <td>0.000000</td>\n",
              "      <td>2.000000</td>\n",
              "    </tr>\n",
              "    <tr>\n",
              "      <th>50%</th>\n",
              "      <td>1.606678e+09</td>\n",
              "      <td>3.000000</td>\n",
              "      <td>0.000000</td>\n",
              "      <td>4.000000</td>\n",
              "      <td>0.000000</td>\n",
              "      <td>1.000000</td>\n",
              "      <td>1.000000</td>\n",
              "      <td>0.000000</td>\n",
              "      <td>0.000000</td>\n",
              "      <td>3.000000</td>\n",
              "    </tr>\n",
              "    <tr>\n",
              "      <th>75%</th>\n",
              "      <td>1.821550e+09</td>\n",
              "      <td>6.000000</td>\n",
              "      <td>1.000000</td>\n",
              "      <td>5.000000</td>\n",
              "      <td>1.000000</td>\n",
              "      <td>3.000000</td>\n",
              "      <td>1.000000</td>\n",
              "      <td>1.000000</td>\n",
              "      <td>0.000000</td>\n",
              "      <td>3.000000</td>\n",
              "    </tr>\n",
              "    <tr>\n",
              "      <th>max</th>\n",
              "      <td>1.976175e+09</td>\n",
              "      <td>150.000000</td>\n",
              "      <td>3.000000</td>\n",
              "      <td>28.000000</td>\n",
              "      <td>1.000000</td>\n",
              "      <td>3.000000</td>\n",
              "      <td>1.000000</td>\n",
              "      <td>1.000000</td>\n",
              "      <td>1.000000</td>\n",
              "      <td>3.000000</td>\n",
              "    </tr>\n",
              "  </tbody>\n",
              "</table>\n",
              "</div>"
            ],
            "text/plain": [
              "                 id      comments  assignee_count   label_count  \\\n",
              "count  1.153700e+04  11537.000000    11537.000000  11537.000000   \n",
              "mean   1.548334e+09      4.651036        0.298865      3.882205   \n",
              "std    3.331343e+08      5.770016        0.479604      1.875986   \n",
              "min    1.743948e+08      0.000000        0.000000      1.000000   \n",
              "25%    1.382611e+09      2.000000        0.000000      3.000000   \n",
              "50%    1.606678e+09      3.000000        0.000000      4.000000   \n",
              "75%    1.821550e+09      6.000000        1.000000      5.000000   \n",
              "max    1.976175e+09    150.000000        3.000000     28.000000   \n",
              "\n",
              "       pr_associated  comment_priority   Top_label_1   Top_label_2  \\\n",
              "count   11537.000000      11537.000000  11537.000000  11537.000000   \n",
              "mean        0.302158          1.735460      0.501604      0.263067   \n",
              "std         0.459213          0.860232      0.500019      0.440317   \n",
              "min         0.000000          1.000000      0.000000      0.000000   \n",
              "25%         0.000000          1.000000      0.000000      0.000000   \n",
              "50%         0.000000          1.000000      1.000000      0.000000   \n",
              "75%         1.000000          3.000000      1.000000      1.000000   \n",
              "max         1.000000          3.000000      1.000000      1.000000   \n",
              "\n",
              "        Top_label_3      priority  \n",
              "count  11537.000000  11537.000000  \n",
              "mean       0.223455      2.377308  \n",
              "std        0.416579      0.757337  \n",
              "min        0.000000      1.000000  \n",
              "25%        0.000000      2.000000  \n",
              "50%        0.000000      3.000000  \n",
              "75%        0.000000      3.000000  \n",
              "max        1.000000      3.000000  "
            ]
          },
          "execution_count": 5,
          "metadata": {},
          "output_type": "execute_result"
        }
      ],
      "source": [
        "df.describe()"
      ]
    },
    {
      "cell_type": "code",
      "execution_count": 6,
      "metadata": {
        "colab": {
          "base_uri": "https://localhost:8080/"
        },
        "id": "M2RQpYlkrMJd",
        "outputId": "b776f760-1123-4c73-de20-485c313a6545"
      },
      "outputs": [
        {
          "name": "stdout",
          "output_type": "stream",
          "text": [
            "Missing Values:\n",
            "id                     0\n",
            "title                  0\n",
            "state                  0\n",
            "created_at             0\n",
            "updated_at             0\n",
            "closed_at           3790\n",
            "comments               0\n",
            "assignee_names         0\n",
            "assignee_count         0\n",
            "label_names            0\n",
            "label_count            0\n",
            "pr_associated          0\n",
            "comment_priority       0\n",
            "top_labels             0\n",
            "Top_label_1            0\n",
            "Top_label_2            0\n",
            "Top_label_3            0\n",
            "priority               0\n",
            "dtype: int64\n"
          ]
        }
      ],
      "source": [
        "print(\"Missing Values:\")\n",
        "print(df.isnull().sum())\n"
      ]
    },
    {
      "cell_type": "code",
      "execution_count": 7,
      "metadata": {
        "colab": {
          "base_uri": "https://localhost:8080/",
          "height": 423
        },
        "id": "ZBeY2AD_sdzA",
        "outputId": "c0ec2391-55f2-417e-bd39-539e0ac23c0c"
      },
      "outputs": [
        {
          "data": {
            "text/html": [
              "<div>\n",
              "<style scoped>\n",
              "    .dataframe tbody tr th:only-of-type {\n",
              "        vertical-align: middle;\n",
              "    }\n",
              "\n",
              "    .dataframe tbody tr th {\n",
              "        vertical-align: top;\n",
              "    }\n",
              "\n",
              "    .dataframe thead th {\n",
              "        text-align: right;\n",
              "    }\n",
              "</style>\n",
              "<table border=\"1\" class=\"dataframe\">\n",
              "  <thead>\n",
              "    <tr style=\"text-align: right;\">\n",
              "      <th></th>\n",
              "      <th>comments</th>\n",
              "      <th>assignee_count</th>\n",
              "      <th>label_count</th>\n",
              "      <th>pr_associated</th>\n",
              "      <th>comment_priority</th>\n",
              "      <th>Top_label_1</th>\n",
              "      <th>Top_label_2</th>\n",
              "      <th>Top_label_3</th>\n",
              "      <th>priority</th>\n",
              "    </tr>\n",
              "  </thead>\n",
              "  <tbody>\n",
              "    <tr>\n",
              "      <th>0</th>\n",
              "      <td>1</td>\n",
              "      <td>0</td>\n",
              "      <td>5</td>\n",
              "      <td>0</td>\n",
              "      <td>3</td>\n",
              "      <td>1</td>\n",
              "      <td>0</td>\n",
              "      <td>0</td>\n",
              "      <td>1</td>\n",
              "    </tr>\n",
              "    <tr>\n",
              "      <th>1</th>\n",
              "      <td>1</td>\n",
              "      <td>0</td>\n",
              "      <td>4</td>\n",
              "      <td>0</td>\n",
              "      <td>3</td>\n",
              "      <td>1</td>\n",
              "      <td>0</td>\n",
              "      <td>0</td>\n",
              "      <td>1</td>\n",
              "    </tr>\n",
              "    <tr>\n",
              "      <th>2</th>\n",
              "      <td>0</td>\n",
              "      <td>0</td>\n",
              "      <td>5</td>\n",
              "      <td>0</td>\n",
              "      <td>3</td>\n",
              "      <td>0</td>\n",
              "      <td>0</td>\n",
              "      <td>0</td>\n",
              "      <td>1</td>\n",
              "    </tr>\n",
              "    <tr>\n",
              "      <th>3</th>\n",
              "      <td>2</td>\n",
              "      <td>0</td>\n",
              "      <td>4</td>\n",
              "      <td>0</td>\n",
              "      <td>2</td>\n",
              "      <td>1</td>\n",
              "      <td>0</td>\n",
              "      <td>0</td>\n",
              "      <td>1</td>\n",
              "    </tr>\n",
              "    <tr>\n",
              "      <th>4</th>\n",
              "      <td>4</td>\n",
              "      <td>0</td>\n",
              "      <td>4</td>\n",
              "      <td>0</td>\n",
              "      <td>1</td>\n",
              "      <td>1</td>\n",
              "      <td>0</td>\n",
              "      <td>0</td>\n",
              "      <td>1</td>\n",
              "    </tr>\n",
              "    <tr>\n",
              "      <th>...</th>\n",
              "      <td>...</td>\n",
              "      <td>...</td>\n",
              "      <td>...</td>\n",
              "      <td>...</td>\n",
              "      <td>...</td>\n",
              "      <td>...</td>\n",
              "      <td>...</td>\n",
              "      <td>...</td>\n",
              "      <td>...</td>\n",
              "    </tr>\n",
              "    <tr>\n",
              "      <th>11532</th>\n",
              "      <td>4</td>\n",
              "      <td>0</td>\n",
              "      <td>4</td>\n",
              "      <td>0</td>\n",
              "      <td>1</td>\n",
              "      <td>0</td>\n",
              "      <td>1</td>\n",
              "      <td>0</td>\n",
              "      <td>2</td>\n",
              "    </tr>\n",
              "    <tr>\n",
              "      <th>11533</th>\n",
              "      <td>3</td>\n",
              "      <td>1</td>\n",
              "      <td>2</td>\n",
              "      <td>0</td>\n",
              "      <td>1</td>\n",
              "      <td>0</td>\n",
              "      <td>0</td>\n",
              "      <td>0</td>\n",
              "      <td>3</td>\n",
              "    </tr>\n",
              "    <tr>\n",
              "      <th>11534</th>\n",
              "      <td>2</td>\n",
              "      <td>0</td>\n",
              "      <td>3</td>\n",
              "      <td>0</td>\n",
              "      <td>2</td>\n",
              "      <td>0</td>\n",
              "      <td>0</td>\n",
              "      <td>0</td>\n",
              "      <td>3</td>\n",
              "    </tr>\n",
              "    <tr>\n",
              "      <th>11535</th>\n",
              "      <td>0</td>\n",
              "      <td>0</td>\n",
              "      <td>3</td>\n",
              "      <td>0</td>\n",
              "      <td>3</td>\n",
              "      <td>0</td>\n",
              "      <td>0</td>\n",
              "      <td>0</td>\n",
              "      <td>3</td>\n",
              "    </tr>\n",
              "    <tr>\n",
              "      <th>11536</th>\n",
              "      <td>2</td>\n",
              "      <td>0</td>\n",
              "      <td>3</td>\n",
              "      <td>0</td>\n",
              "      <td>2</td>\n",
              "      <td>0</td>\n",
              "      <td>0</td>\n",
              "      <td>0</td>\n",
              "      <td>3</td>\n",
              "    </tr>\n",
              "  </tbody>\n",
              "</table>\n",
              "<p>11537 rows × 9 columns</p>\n",
              "</div>"
            ],
            "text/plain": [
              "       comments  assignee_count  label_count  pr_associated  comment_priority  \\\n",
              "0             1               0            5              0                 3   \n",
              "1             1               0            4              0                 3   \n",
              "2             0               0            5              0                 3   \n",
              "3             2               0            4              0                 2   \n",
              "4             4               0            4              0                 1   \n",
              "...         ...             ...          ...            ...               ...   \n",
              "11532         4               0            4              0                 1   \n",
              "11533         3               1            2              0                 1   \n",
              "11534         2               0            3              0                 2   \n",
              "11535         0               0            3              0                 3   \n",
              "11536         2               0            3              0                 2   \n",
              "\n",
              "       Top_label_1  Top_label_2  Top_label_3  priority  \n",
              "0                1            0            0         1  \n",
              "1                1            0            0         1  \n",
              "2                0            0            0         1  \n",
              "3                1            0            0         1  \n",
              "4                1            0            0         1  \n",
              "...            ...          ...          ...       ...  \n",
              "11532            0            1            0         2  \n",
              "11533            0            0            0         3  \n",
              "11534            0            0            0         3  \n",
              "11535            0            0            0         3  \n",
              "11536            0            0            0         3  \n",
              "\n",
              "[11537 rows x 9 columns]"
            ]
          },
          "execution_count": 7,
          "metadata": {},
          "output_type": "execute_result"
        }
      ],
      "source": [
        "columns_to_drop = ['id', 'updated_at', 'created_at','closed_at','title','top_labels', 'state', 'assignee_names', 'label_names']\n",
        "df = df.drop(columns=columns_to_drop)\n",
        "df"
      ]
    },
    {
      "cell_type": "code",
      "execution_count": 8,
      "metadata": {
        "id": "Sbf5PA0Isew3"
      },
      "outputs": [],
      "source": [
        "from sklearn.model_selection import train_test_split\n",
        "from sklearn.ensemble import RandomForestClassifier\n",
        "from sklearn.metrics import accuracy_score, classification_report, confusion_matrix"
      ]
    },
    {
      "cell_type": "code",
      "execution_count": 9,
      "metadata": {
        "id": "UNtDhYB_smMh"
      },
      "outputs": [],
      "source": [
        "labeled_data = df[df['priority'].notnull()]\n",
        "unlabeled_data = df[df['priority'].isnull()]\n"
      ]
    },
    {
      "cell_type": "code",
      "execution_count": 10,
      "metadata": {
        "id": "ZdlyYftQs3vq"
      },
      "outputs": [],
      "source": [
        "X = df.drop('priority', axis=1)\n",
        "Y = labeled_data['priority']\n"
      ]
    },
    {
      "cell_type": "code",
      "execution_count": 11,
      "metadata": {
        "id": "EA7GKgSMs79i"
      },
      "outputs": [],
      "source": [
        "X_train, X_test, Y_train, Y_test = train_test_split(X, Y, test_size=0.2, random_state=101)"
      ]
    },
    {
      "cell_type": "code",
      "execution_count": 12,
      "metadata": {
        "colab": {
          "base_uri": "https://localhost:8080/",
          "height": 74
        },
        "id": "KvJgBtdftK-u",
        "outputId": "1a89d687-5868-47b3-c2f2-d45b9a774571"
      },
      "outputs": [
        {
          "data": {
            "text/html": [
              "<style>#sk-container-id-1 {color: black;}#sk-container-id-1 pre{padding: 0;}#sk-container-id-1 div.sk-toggleable {background-color: white;}#sk-container-id-1 label.sk-toggleable__label {cursor: pointer;display: block;width: 100%;margin-bottom: 0;padding: 0.3em;box-sizing: border-box;text-align: center;}#sk-container-id-1 label.sk-toggleable__label-arrow:before {content: \"▸\";float: left;margin-right: 0.25em;color: #696969;}#sk-container-id-1 label.sk-toggleable__label-arrow:hover:before {color: black;}#sk-container-id-1 div.sk-estimator:hover label.sk-toggleable__label-arrow:before {color: black;}#sk-container-id-1 div.sk-toggleable__content {max-height: 0;max-width: 0;overflow: hidden;text-align: left;background-color: #f0f8ff;}#sk-container-id-1 div.sk-toggleable__content pre {margin: 0.2em;color: black;border-radius: 0.25em;background-color: #f0f8ff;}#sk-container-id-1 input.sk-toggleable__control:checked~div.sk-toggleable__content {max-height: 200px;max-width: 100%;overflow: auto;}#sk-container-id-1 input.sk-toggleable__control:checked~label.sk-toggleable__label-arrow:before {content: \"▾\";}#sk-container-id-1 div.sk-estimator input.sk-toggleable__control:checked~label.sk-toggleable__label {background-color: #d4ebff;}#sk-container-id-1 div.sk-label input.sk-toggleable__control:checked~label.sk-toggleable__label {background-color: #d4ebff;}#sk-container-id-1 input.sk-hidden--visually {border: 0;clip: rect(1px 1px 1px 1px);clip: rect(1px, 1px, 1px, 1px);height: 1px;margin: -1px;overflow: hidden;padding: 0;position: absolute;width: 1px;}#sk-container-id-1 div.sk-estimator {font-family: monospace;background-color: #f0f8ff;border: 1px dotted black;border-radius: 0.25em;box-sizing: border-box;margin-bottom: 0.5em;}#sk-container-id-1 div.sk-estimator:hover {background-color: #d4ebff;}#sk-container-id-1 div.sk-parallel-item::after {content: \"\";width: 100%;border-bottom: 1px solid gray;flex-grow: 1;}#sk-container-id-1 div.sk-label:hover label.sk-toggleable__label {background-color: #d4ebff;}#sk-container-id-1 div.sk-serial::before {content: \"\";position: absolute;border-left: 1px solid gray;box-sizing: border-box;top: 0;bottom: 0;left: 50%;z-index: 0;}#sk-container-id-1 div.sk-serial {display: flex;flex-direction: column;align-items: center;background-color: white;padding-right: 0.2em;padding-left: 0.2em;position: relative;}#sk-container-id-1 div.sk-item {position: relative;z-index: 1;}#sk-container-id-1 div.sk-parallel {display: flex;align-items: stretch;justify-content: center;background-color: white;position: relative;}#sk-container-id-1 div.sk-item::before, #sk-container-id-1 div.sk-parallel-item::before {content: \"\";position: absolute;border-left: 1px solid gray;box-sizing: border-box;top: 0;bottom: 0;left: 50%;z-index: -1;}#sk-container-id-1 div.sk-parallel-item {display: flex;flex-direction: column;z-index: 1;position: relative;background-color: white;}#sk-container-id-1 div.sk-parallel-item:first-child::after {align-self: flex-end;width: 50%;}#sk-container-id-1 div.sk-parallel-item:last-child::after {align-self: flex-start;width: 50%;}#sk-container-id-1 div.sk-parallel-item:only-child::after {width: 0;}#sk-container-id-1 div.sk-dashed-wrapped {border: 1px dashed gray;margin: 0 0.4em 0.5em 0.4em;box-sizing: border-box;padding-bottom: 0.4em;background-color: white;}#sk-container-id-1 div.sk-label label {font-family: monospace;font-weight: bold;display: inline-block;line-height: 1.2em;}#sk-container-id-1 div.sk-label-container {text-align: center;}#sk-container-id-1 div.sk-container {/* jupyter's `normalize.less` sets `[hidden] { display: none; }` but bootstrap.min.css set `[hidden] { display: none !important; }` so we also need the `!important` here to be able to override the default hidden behavior on the sphinx rendered scikit-learn.org. See: https://github.com/scikit-learn/scikit-learn/issues/21755 */display: inline-block !important;position: relative;}#sk-container-id-1 div.sk-text-repr-fallback {display: none;}</style><div id=\"sk-container-id-1\" class=\"sk-top-container\"><div class=\"sk-text-repr-fallback\"><pre>RandomForestClassifier(random_state=101)</pre><b>In a Jupyter environment, please rerun this cell to show the HTML representation or trust the notebook. <br />On GitHub, the HTML representation is unable to render, please try loading this page with nbviewer.org.</b></div><div class=\"sk-container\" hidden><div class=\"sk-item\"><div class=\"sk-estimator sk-toggleable\"><input class=\"sk-toggleable__control sk-hidden--visually\" id=\"sk-estimator-id-1\" type=\"checkbox\" checked><label for=\"sk-estimator-id-1\" class=\"sk-toggleable__label sk-toggleable__label-arrow\">RandomForestClassifier</label><div class=\"sk-toggleable__content\"><pre>RandomForestClassifier(random_state=101)</pre></div></div></div></div></div>"
            ],
            "text/plain": [
              "RandomForestClassifier(random_state=101)"
            ]
          },
          "execution_count": 12,
          "metadata": {},
          "output_type": "execute_result"
        }
      ],
      "source": [
        "model = RandomForestClassifier(n_estimators=100, random_state=101)\n",
        "model.fit(X_train, Y_train)"
      ]
    },
    {
      "cell_type": "code",
      "execution_count": 13,
      "metadata": {
        "colab": {
          "base_uri": "https://localhost:8080/"
        },
        "id": "qWF67WgfuORT",
        "outputId": "89ad525b-a28e-4c17-fd5c-dea169f53e06"
      },
      "outputs": [
        {
          "name": "stdout",
          "output_type": "stream",
          "text": [
            "Accuracy: 0.68\n",
            "Classification Report:\n",
            "               precision    recall  f1-score   support\n",
            "\n",
            "           1       0.48      0.46      0.47       384\n",
            "           2       0.58      0.58      0.58       660\n",
            "           3       0.80      0.80      0.80      1264\n",
            "\n",
            "    accuracy                           0.68      2308\n",
            "   macro avg       0.62      0.62      0.62      2308\n",
            "weighted avg       0.68      0.68      0.68      2308\n",
            "\n"
          ]
        }
      ],
      "source": [
        "pred = model.predict(X_test)\n",
        "\n",
        "# Evaluate the model\n",
        "accuracy = accuracy_score(Y_test, pred)\n",
        "classification_rep = classification_report(Y_test, pred)\n",
        "\n",
        "print(f\"Accuracy: {accuracy:.2f}\")\n",
        "print(\"Classification Report:\\n\", classification_rep)"
      ]
    },
    {
      "cell_type": "code",
      "execution_count": 14,
      "metadata": {
        "colab": {
          "base_uri": "https://localhost:8080/"
        },
        "id": "KeMacacMHugk",
        "outputId": "e9f26d46-ce3a-4cb8-8203-64322a8a5cb5"
      },
      "outputs": [
        {
          "data": {
            "text/plain": [
              "(5000, 18)"
            ]
          },
          "execution_count": 14,
          "metadata": {},
          "output_type": "execute_result"
        }
      ],
      "source": [
        "unlabeled_data = pd.read_excel('unlabelledData.xlsx')\n",
        "unlabeled_data.shape"
      ]
    },
    {
      "cell_type": "code",
      "execution_count": 15,
      "metadata": {
        "colab": {
          "base_uri": "https://localhost:8080/"
        },
        "id": "qPetPf8wIRc4",
        "outputId": "2742e10d-8ba9-486f-e306-a5e4457d49f6"
      },
      "outputs": [
        {
          "name": "stdout",
          "output_type": "stream",
          "text": [
            "Missing Values:\n",
            "id                     0\n",
            "title                  0\n",
            "state                  0\n",
            "created_at             0\n",
            "updated_at             0\n",
            "closed_at           1030\n",
            "comments               0\n",
            "assignee_names         0\n",
            "assignee_count         0\n",
            "label_names            0\n",
            "label_count            0\n",
            "pr_associated          0\n",
            "comment_priority       0\n",
            "top_labels             0\n",
            "Top_label_1            0\n",
            "Top_label_2            0\n",
            "Top_label_3            0\n",
            "priority            5000\n",
            "dtype: int64\n"
          ]
        }
      ],
      "source": [
        "print(\"Missing Values:\")\n",
        "print(unlabeled_data.isnull().sum())\n"
      ]
    },
    {
      "cell_type": "code",
      "execution_count": 16,
      "metadata": {
        "colab": {
          "base_uri": "https://localhost:8080/",
          "height": 423
        },
        "id": "CKNBR9ygIo9i",
        "outputId": "0c4354d4-ed06-49cb-9e38-68ba96771dfb"
      },
      "outputs": [
        {
          "data": {
            "text/html": [
              "<div>\n",
              "<style scoped>\n",
              "    .dataframe tbody tr th:only-of-type {\n",
              "        vertical-align: middle;\n",
              "    }\n",
              "\n",
              "    .dataframe tbody tr th {\n",
              "        vertical-align: top;\n",
              "    }\n",
              "\n",
              "    .dataframe thead th {\n",
              "        text-align: right;\n",
              "    }\n",
              "</style>\n",
              "<table border=\"1\" class=\"dataframe\">\n",
              "  <thead>\n",
              "    <tr style=\"text-align: right;\">\n",
              "      <th></th>\n",
              "      <th>comments</th>\n",
              "      <th>assignee_count</th>\n",
              "      <th>label_count</th>\n",
              "      <th>pr_associated</th>\n",
              "      <th>comment_priority</th>\n",
              "      <th>Top_label_1</th>\n",
              "      <th>Top_label_2</th>\n",
              "      <th>Top_label_3</th>\n",
              "      <th>priority</th>\n",
              "    </tr>\n",
              "  </thead>\n",
              "  <tbody>\n",
              "    <tr>\n",
              "      <th>0</th>\n",
              "      <td>1</td>\n",
              "      <td>0</td>\n",
              "      <td>1</td>\n",
              "      <td>1</td>\n",
              "      <td>3</td>\n",
              "      <td>1</td>\n",
              "      <td>0</td>\n",
              "      <td>0</td>\n",
              "      <td>NaN</td>\n",
              "    </tr>\n",
              "    <tr>\n",
              "      <th>1</th>\n",
              "      <td>0</td>\n",
              "      <td>0</td>\n",
              "      <td>2</td>\n",
              "      <td>1</td>\n",
              "      <td>3</td>\n",
              "      <td>1</td>\n",
              "      <td>0</td>\n",
              "      <td>1</td>\n",
              "      <td>NaN</td>\n",
              "    </tr>\n",
              "    <tr>\n",
              "      <th>2</th>\n",
              "      <td>1</td>\n",
              "      <td>0</td>\n",
              "      <td>2</td>\n",
              "      <td>1</td>\n",
              "      <td>3</td>\n",
              "      <td>1</td>\n",
              "      <td>0</td>\n",
              "      <td>1</td>\n",
              "      <td>NaN</td>\n",
              "    </tr>\n",
              "    <tr>\n",
              "      <th>3</th>\n",
              "      <td>2</td>\n",
              "      <td>0</td>\n",
              "      <td>1</td>\n",
              "      <td>0</td>\n",
              "      <td>2</td>\n",
              "      <td>0</td>\n",
              "      <td>1</td>\n",
              "      <td>0</td>\n",
              "      <td>NaN</td>\n",
              "    </tr>\n",
              "    <tr>\n",
              "      <th>4</th>\n",
              "      <td>0</td>\n",
              "      <td>0</td>\n",
              "      <td>1</td>\n",
              "      <td>0</td>\n",
              "      <td>3</td>\n",
              "      <td>0</td>\n",
              "      <td>1</td>\n",
              "      <td>0</td>\n",
              "      <td>NaN</td>\n",
              "    </tr>\n",
              "    <tr>\n",
              "      <th>...</th>\n",
              "      <td>...</td>\n",
              "      <td>...</td>\n",
              "      <td>...</td>\n",
              "      <td>...</td>\n",
              "      <td>...</td>\n",
              "      <td>...</td>\n",
              "      <td>...</td>\n",
              "      <td>...</td>\n",
              "      <td>...</td>\n",
              "    </tr>\n",
              "    <tr>\n",
              "      <th>4995</th>\n",
              "      <td>4</td>\n",
              "      <td>1</td>\n",
              "      <td>2</td>\n",
              "      <td>1</td>\n",
              "      <td>1</td>\n",
              "      <td>1</td>\n",
              "      <td>0</td>\n",
              "      <td>1</td>\n",
              "      <td>NaN</td>\n",
              "    </tr>\n",
              "    <tr>\n",
              "      <th>4996</th>\n",
              "      <td>1</td>\n",
              "      <td>0</td>\n",
              "      <td>2</td>\n",
              "      <td>1</td>\n",
              "      <td>3</td>\n",
              "      <td>1</td>\n",
              "      <td>0</td>\n",
              "      <td>1</td>\n",
              "      <td>NaN</td>\n",
              "    </tr>\n",
              "    <tr>\n",
              "      <th>4997</th>\n",
              "      <td>2</td>\n",
              "      <td>0</td>\n",
              "      <td>1</td>\n",
              "      <td>0</td>\n",
              "      <td>2</td>\n",
              "      <td>0</td>\n",
              "      <td>1</td>\n",
              "      <td>0</td>\n",
              "      <td>NaN</td>\n",
              "    </tr>\n",
              "    <tr>\n",
              "      <th>4998</th>\n",
              "      <td>2</td>\n",
              "      <td>0</td>\n",
              "      <td>1</td>\n",
              "      <td>0</td>\n",
              "      <td>2</td>\n",
              "      <td>0</td>\n",
              "      <td>0</td>\n",
              "      <td>0</td>\n",
              "      <td>NaN</td>\n",
              "    </tr>\n",
              "    <tr>\n",
              "      <th>4999</th>\n",
              "      <td>2</td>\n",
              "      <td>1</td>\n",
              "      <td>2</td>\n",
              "      <td>0</td>\n",
              "      <td>2</td>\n",
              "      <td>0</td>\n",
              "      <td>1</td>\n",
              "      <td>0</td>\n",
              "      <td>NaN</td>\n",
              "    </tr>\n",
              "  </tbody>\n",
              "</table>\n",
              "<p>5000 rows × 9 columns</p>\n",
              "</div>"
            ],
            "text/plain": [
              "      comments  assignee_count  label_count  pr_associated  comment_priority  \\\n",
              "0            1               0            1              1                 3   \n",
              "1            0               0            2              1                 3   \n",
              "2            1               0            2              1                 3   \n",
              "3            2               0            1              0                 2   \n",
              "4            0               0            1              0                 3   \n",
              "...        ...             ...          ...            ...               ...   \n",
              "4995         4               1            2              1                 1   \n",
              "4996         1               0            2              1                 3   \n",
              "4997         2               0            1              0                 2   \n",
              "4998         2               0            1              0                 2   \n",
              "4999         2               1            2              0                 2   \n",
              "\n",
              "      Top_label_1  Top_label_2  Top_label_3  priority  \n",
              "0               1            0            0       NaN  \n",
              "1               1            0            1       NaN  \n",
              "2               1            0            1       NaN  \n",
              "3               0            1            0       NaN  \n",
              "4               0            1            0       NaN  \n",
              "...           ...          ...          ...       ...  \n",
              "4995            1            0            1       NaN  \n",
              "4996            1            0            1       NaN  \n",
              "4997            0            1            0       NaN  \n",
              "4998            0            0            0       NaN  \n",
              "4999            0            1            0       NaN  \n",
              "\n",
              "[5000 rows x 9 columns]"
            ]
          },
          "execution_count": 16,
          "metadata": {},
          "output_type": "execute_result"
        }
      ],
      "source": [
        "columns_to_drop = ['id', 'updated_at', 'created_at','closed_at','title','top_labels', 'state', 'assignee_names', 'label_names']\n",
        "unlabeled_data = unlabeled_data.drop(columns=columns_to_drop)\n",
        "unlabeled_data"
      ]
    },
    {
      "cell_type": "code",
      "execution_count": 17,
      "metadata": {
        "id": "wdPZ-7QxgQBQ"
      },
      "outputs": [],
      "source": [
        "df = df.reset_index(drop=True)"
      ]
    },
    {
      "cell_type": "code",
      "execution_count": 18,
      "metadata": {
        "id": "VOngQth0hs1Q"
      },
      "outputs": [],
      "source": [
        "from sklearn.metrics import classification_report, confusion_matrix"
      ]
    },
    {
      "cell_type": "code",
      "execution_count": 19,
      "metadata": {
        "colab": {
          "base_uri": "https://localhost:8080/"
        },
        "id": "hVB84FMKuu0u",
        "outputId": "600444ac-3473-47c0-8abe-d113a00b22af"
      },
      "outputs": [],
      "source": [
        "num_iterations = 3\n",
        "\n",
        "for iteration in range(num_iterations):\n",
        "    #Pseudo-Labeling\n",
        "    unlabeled_features = unlabeled_data.drop('priority', axis=1)\n",
        "    pseudo_labels = model.predict(unlabeled_features)\n",
        "\n",
        "    #new DataFrame for pseudo-labeled data\n",
        "    pseudo_labeled_data = unlabeled_data.copy()\n",
        "    pseudo_labeled_data['priority'] = pseudo_labels\n",
        "\n",
        "    # Combine pseudo-labeled data with the labeled data for the next iteration\n",
        "    combined_data = pd.concat([labeled_data, pseudo_labeled_data], ignore_index=True)\n"
      ]
    },
    {
      "cell_type": "code",
      "execution_count": 20,
      "metadata": {
        "id": "rKJpj4x9iKmU"
      },
      "outputs": [],
      "source": [
        "X_train_combined = combined_data.drop('priority', axis=1)\n",
        "y_train_combined = combined_data['priority']"
      ]
    },
    {
      "cell_type": "code",
      "execution_count": 21,
      "metadata": {
        "colab": {
          "base_uri": "https://localhost:8080/",
          "height": 74
        },
        "id": "sW3Hd0Y0iTK0",
        "outputId": "6056c11d-3173-4ee1-c37b-874384a8eefd"
      },
      "outputs": [
        {
          "data": {
            "text/html": [
              "<style>#sk-container-id-2 {color: black;}#sk-container-id-2 pre{padding: 0;}#sk-container-id-2 div.sk-toggleable {background-color: white;}#sk-container-id-2 label.sk-toggleable__label {cursor: pointer;display: block;width: 100%;margin-bottom: 0;padding: 0.3em;box-sizing: border-box;text-align: center;}#sk-container-id-2 label.sk-toggleable__label-arrow:before {content: \"▸\";float: left;margin-right: 0.25em;color: #696969;}#sk-container-id-2 label.sk-toggleable__label-arrow:hover:before {color: black;}#sk-container-id-2 div.sk-estimator:hover label.sk-toggleable__label-arrow:before {color: black;}#sk-container-id-2 div.sk-toggleable__content {max-height: 0;max-width: 0;overflow: hidden;text-align: left;background-color: #f0f8ff;}#sk-container-id-2 div.sk-toggleable__content pre {margin: 0.2em;color: black;border-radius: 0.25em;background-color: #f0f8ff;}#sk-container-id-2 input.sk-toggleable__control:checked~div.sk-toggleable__content {max-height: 200px;max-width: 100%;overflow: auto;}#sk-container-id-2 input.sk-toggleable__control:checked~label.sk-toggleable__label-arrow:before {content: \"▾\";}#sk-container-id-2 div.sk-estimator input.sk-toggleable__control:checked~label.sk-toggleable__label {background-color: #d4ebff;}#sk-container-id-2 div.sk-label input.sk-toggleable__control:checked~label.sk-toggleable__label {background-color: #d4ebff;}#sk-container-id-2 input.sk-hidden--visually {border: 0;clip: rect(1px 1px 1px 1px);clip: rect(1px, 1px, 1px, 1px);height: 1px;margin: -1px;overflow: hidden;padding: 0;position: absolute;width: 1px;}#sk-container-id-2 div.sk-estimator {font-family: monospace;background-color: #f0f8ff;border: 1px dotted black;border-radius: 0.25em;box-sizing: border-box;margin-bottom: 0.5em;}#sk-container-id-2 div.sk-estimator:hover {background-color: #d4ebff;}#sk-container-id-2 div.sk-parallel-item::after {content: \"\";width: 100%;border-bottom: 1px solid gray;flex-grow: 1;}#sk-container-id-2 div.sk-label:hover label.sk-toggleable__label {background-color: #d4ebff;}#sk-container-id-2 div.sk-serial::before {content: \"\";position: absolute;border-left: 1px solid gray;box-sizing: border-box;top: 0;bottom: 0;left: 50%;z-index: 0;}#sk-container-id-2 div.sk-serial {display: flex;flex-direction: column;align-items: center;background-color: white;padding-right: 0.2em;padding-left: 0.2em;position: relative;}#sk-container-id-2 div.sk-item {position: relative;z-index: 1;}#sk-container-id-2 div.sk-parallel {display: flex;align-items: stretch;justify-content: center;background-color: white;position: relative;}#sk-container-id-2 div.sk-item::before, #sk-container-id-2 div.sk-parallel-item::before {content: \"\";position: absolute;border-left: 1px solid gray;box-sizing: border-box;top: 0;bottom: 0;left: 50%;z-index: -1;}#sk-container-id-2 div.sk-parallel-item {display: flex;flex-direction: column;z-index: 1;position: relative;background-color: white;}#sk-container-id-2 div.sk-parallel-item:first-child::after {align-self: flex-end;width: 50%;}#sk-container-id-2 div.sk-parallel-item:last-child::after {align-self: flex-start;width: 50%;}#sk-container-id-2 div.sk-parallel-item:only-child::after {width: 0;}#sk-container-id-2 div.sk-dashed-wrapped {border: 1px dashed gray;margin: 0 0.4em 0.5em 0.4em;box-sizing: border-box;padding-bottom: 0.4em;background-color: white;}#sk-container-id-2 div.sk-label label {font-family: monospace;font-weight: bold;display: inline-block;line-height: 1.2em;}#sk-container-id-2 div.sk-label-container {text-align: center;}#sk-container-id-2 div.sk-container {/* jupyter's `normalize.less` sets `[hidden] { display: none; }` but bootstrap.min.css set `[hidden] { display: none !important; }` so we also need the `!important` here to be able to override the default hidden behavior on the sphinx rendered scikit-learn.org. See: https://github.com/scikit-learn/scikit-learn/issues/21755 */display: inline-block !important;position: relative;}#sk-container-id-2 div.sk-text-repr-fallback {display: none;}</style><div id=\"sk-container-id-2\" class=\"sk-top-container\"><div class=\"sk-text-repr-fallback\"><pre>RandomForestClassifier(random_state=101)</pre><b>In a Jupyter environment, please rerun this cell to show the HTML representation or trust the notebook. <br />On GitHub, the HTML representation is unable to render, please try loading this page with nbviewer.org.</b></div><div class=\"sk-container\" hidden><div class=\"sk-item\"><div class=\"sk-estimator sk-toggleable\"><input class=\"sk-toggleable__control sk-hidden--visually\" id=\"sk-estimator-id-2\" type=\"checkbox\" checked><label for=\"sk-estimator-id-2\" class=\"sk-toggleable__label sk-toggleable__label-arrow\">RandomForestClassifier</label><div class=\"sk-toggleable__content\"><pre>RandomForestClassifier(random_state=101)</pre></div></div></div></div></div>"
            ],
            "text/plain": [
              "RandomForestClassifier(random_state=101)"
            ]
          },
          "execution_count": 21,
          "metadata": {},
          "output_type": "execute_result"
        }
      ],
      "source": [
        "model = RandomForestClassifier(random_state=101)\n",
        "model.fit(X_train_combined , y_train_combined)"
      ]
    },
    {
      "cell_type": "code",
      "execution_count": 22,
      "metadata": {
        "id": "N5a8N4Iji-1J"
      },
      "outputs": [],
      "source": [
        "X_eval = df.drop('priority', axis=1)\n",
        "y_eval = df['priority']"
      ]
    },
    {
      "cell_type": "code",
      "execution_count": 29,
      "metadata": {
        "colab": {
          "base_uri": "https://localhost:8080/"
        },
        "id": "NzFsfAA2IA4A",
        "outputId": "063440c6-878b-42cf-daf1-26d2da7fc3ce"
      },
      "outputs": [
        {
          "name": "stdout",
          "output_type": "stream",
          "text": [
            "Iteration 3 - Model Accuracy: 0.7753315419953194\n"
          ]
        }
      ],
      "source": [
        "newpred = model.predict(X_eval)\n",
        "accuracy = accuracy_score(y_eval, newpred)\n",
        "print(f'Iteration {iteration + 1} - Model Accuracy: {accuracy}')\n"
      ]
    },
    {
      "cell_type": "code",
      "execution_count": 36,
      "metadata": {
        "colab": {
          "base_uri": "https://localhost:8080/"
        },
        "id": "GPoD0PxfjHIJ",
        "outputId": "7fb9399e-4504-47b5-f963-e8e987af4e42"
      },
      "outputs": [
        {
          "name": "stdout",
          "output_type": "stream",
          "text": [
            "[[1113  461  379]\n",
            " [ 339 2334  605]\n",
            " [ 221  587 5498]]\n",
            "\n",
            "\n",
            "              precision    recall  f1-score   support\n",
            "\n",
            "           1       0.67      0.57      0.61      1953\n",
            "           2       0.69      0.71      0.70      3278\n",
            "           3       0.85      0.87      0.86      6306\n",
            "\n",
            "    accuracy                           0.78     11537\n",
            "   macro avg       0.73      0.72      0.72     11537\n",
            "weighted avg       0.77      0.78      0.77     11537\n",
            "\n"
          ]
        }
      ],
      "source": [
        "print(confusion_matrix(y_eval, newpred))\n",
        "print('\\n')\n",
        "print(classification_report(y_eval, newpred))"
      ]
    },
    {
      "cell_type": "code",
      "execution_count": 37,
      "metadata": {
        "colab": {
          "base_uri": "https://localhost:8080/",
          "height": 206
        },
        "id": "ljVwhR0_9TLT",
        "outputId": "9f6fa9e6-d06a-45ed-d91b-dc88ed1040f1"
      },
      "outputs": [
        {
          "data": {
            "text/html": [
              "<div>\n",
              "<style scoped>\n",
              "    .dataframe tbody tr th:only-of-type {\n",
              "        vertical-align: middle;\n",
              "    }\n",
              "\n",
              "    .dataframe tbody tr th {\n",
              "        vertical-align: top;\n",
              "    }\n",
              "\n",
              "    .dataframe thead th {\n",
              "        text-align: right;\n",
              "    }\n",
              "</style>\n",
              "<table border=\"1\" class=\"dataframe\">\n",
              "  <thead>\n",
              "    <tr style=\"text-align: right;\">\n",
              "      <th></th>\n",
              "      <th>comments</th>\n",
              "      <th>assignee_count</th>\n",
              "      <th>label_count</th>\n",
              "      <th>pr_associated</th>\n",
              "      <th>comment_priority</th>\n",
              "      <th>Top_label_1</th>\n",
              "      <th>Top_label_2</th>\n",
              "      <th>Top_label_3</th>\n",
              "      <th>priority</th>\n",
              "    </tr>\n",
              "  </thead>\n",
              "  <tbody>\n",
              "    <tr>\n",
              "      <th>16532</th>\n",
              "      <td>4</td>\n",
              "      <td>1</td>\n",
              "      <td>2</td>\n",
              "      <td>1</td>\n",
              "      <td>1</td>\n",
              "      <td>1</td>\n",
              "      <td>0</td>\n",
              "      <td>1</td>\n",
              "      <td>3</td>\n",
              "    </tr>\n",
              "    <tr>\n",
              "      <th>16533</th>\n",
              "      <td>1</td>\n",
              "      <td>0</td>\n",
              "      <td>2</td>\n",
              "      <td>1</td>\n",
              "      <td>3</td>\n",
              "      <td>1</td>\n",
              "      <td>0</td>\n",
              "      <td>1</td>\n",
              "      <td>3</td>\n",
              "    </tr>\n",
              "    <tr>\n",
              "      <th>16534</th>\n",
              "      <td>2</td>\n",
              "      <td>0</td>\n",
              "      <td>1</td>\n",
              "      <td>0</td>\n",
              "      <td>2</td>\n",
              "      <td>0</td>\n",
              "      <td>1</td>\n",
              "      <td>0</td>\n",
              "      <td>2</td>\n",
              "    </tr>\n",
              "    <tr>\n",
              "      <th>16535</th>\n",
              "      <td>2</td>\n",
              "      <td>0</td>\n",
              "      <td>1</td>\n",
              "      <td>0</td>\n",
              "      <td>2</td>\n",
              "      <td>0</td>\n",
              "      <td>0</td>\n",
              "      <td>0</td>\n",
              "      <td>2</td>\n",
              "    </tr>\n",
              "    <tr>\n",
              "      <th>16536</th>\n",
              "      <td>2</td>\n",
              "      <td>1</td>\n",
              "      <td>2</td>\n",
              "      <td>0</td>\n",
              "      <td>2</td>\n",
              "      <td>0</td>\n",
              "      <td>1</td>\n",
              "      <td>0</td>\n",
              "      <td>2</td>\n",
              "    </tr>\n",
              "  </tbody>\n",
              "</table>\n",
              "</div>"
            ],
            "text/plain": [
              "       comments  assignee_count  label_count  pr_associated  comment_priority  \\\n",
              "16532         4               1            2              1                 1   \n",
              "16533         1               0            2              1                 3   \n",
              "16534         2               0            1              0                 2   \n",
              "16535         2               0            1              0                 2   \n",
              "16536         2               1            2              0                 2   \n",
              "\n",
              "       Top_label_1  Top_label_2  Top_label_3  priority  \n",
              "16532            1            0            1         3  \n",
              "16533            1            0            1         3  \n",
              "16534            0            1            0         2  \n",
              "16535            0            0            0         2  \n",
              "16536            0            1            0         2  "
            ]
          },
          "execution_count": 37,
          "metadata": {},
          "output_type": "execute_result"
        }
      ],
      "source": [
        "combined_data.tail()"
      ]
    },
    {
      "cell_type": "code",
      "execution_count": 38,
      "metadata": {
        "colab": {
          "base_uri": "https://localhost:8080/"
        },
        "id": "DvibOO4j9XnK",
        "outputId": "8150cf8e-9e3d-4cf5-b94c-de3505e9c71d"
      },
      "outputs": [
        {
          "name": "stdout",
          "output_type": "stream",
          "text": [
            "<class 'pandas.core.frame.DataFrame'>\n",
            "RangeIndex: 16537 entries, 0 to 16536\n",
            "Data columns (total 9 columns):\n",
            " #   Column            Non-Null Count  Dtype\n",
            "---  ------            --------------  -----\n",
            " 0   comments          16537 non-null  int64\n",
            " 1   assignee_count    16537 non-null  int64\n",
            " 2   label_count       16537 non-null  int64\n",
            " 3   pr_associated     16537 non-null  int64\n",
            " 4   comment_priority  16537 non-null  int64\n",
            " 5   Top_label_1       16537 non-null  int64\n",
            " 6   Top_label_2       16537 non-null  int64\n",
            " 7   Top_label_3       16537 non-null  int64\n",
            " 8   priority          16537 non-null  int64\n",
            "dtypes: int64(9)\n",
            "memory usage: 1.1 MB\n"
          ]
        }
      ],
      "source": [
        "combined_data.info()"
      ]
    },
    {
      "cell_type": "code",
      "execution_count": 39,
      "metadata": {
        "id": "HS4avMmR9hGO"
      },
      "outputs": [],
      "source": [
        "import pandas as pd\n",
        "from sklearn.model_selection import KFold, StratifiedKFold, LeaveOneOut\n",
        "from sklearn.metrics import accuracy_score\n",
        "from sklearn.ensemble import RandomForestClassifier\n",
        "from sklearn.tree import DecisionTreeClassifier\n",
        "from sklearn.linear_model import LogisticRegression\n",
        "from sklearn.svm import SVC\n",
        "from sklearn.neighbors import KNeighborsClassifier\n",
        "from sklearn.naive_bayes import GaussianNB"
      ]
    },
    {
      "cell_type": "code",
      "execution_count": 42,
      "metadata": {},
      "outputs": [],
      "source": [
        "# Define the number of folds for cross-validation\n",
        "n_splits = 5"
      ]
    },
    {
      "cell_type": "code",
      "execution_count": 35,
      "metadata": {},
      "outputs": [
        {
          "name": "stdout",
          "output_type": "stream",
          "text": [
            "RandomForestClassifier - KFold - Average Accuracy: 0.79\n",
            "DecisionTreeClassifier - KFold - Average Accuracy: 0.78\n",
            "LogisticRegression - KFold - Average Accuracy: 0.68\n",
            "SVC - KFold - Average Accuracy: 0.73\n",
            "KNN - KFold - Average Accuracy: 0.73\n",
            "GaussianNB - KFold - Average Accuracy: 0.68\n"
          ]
        }
      ],
      "source": [
        "from sklearn.model_selection import KFold, StratifiedKFold, LeaveOneOut\n",
        "from collections import defaultdict\n",
        "from sklearn.metrics import accuracy_score\n",
        "from sklearn.ensemble import RandomForestClassifier\n",
        "from sklearn.tree import DecisionTreeClassifier\n",
        "from sklearn.linear_model import LogisticRegression\n",
        "from sklearn.svm import SVC\n",
        "from sklearn.neighbors import KNeighborsClassifier\n",
        "from sklearn.naive_bayes import GaussianNB\n",
        "import random\n",
        "\n",
        "# Define the number of splits for cross-validation\n",
        "n_splits = 5 \n",
        "\n",
        "# Dictionary to store accuracy scores\n",
        "accuracy_scores = defaultdict(list)\n",
        "\n",
        "# Models to evaluate\n",
        "models = {\n",
        "    'RandomForestClassifier': RandomForestClassifier(),\n",
        "    'DecisionTreeClassifier': DecisionTreeClassifier(),\n",
        "    'LogisticRegression': LogisticRegression(max_iter=1000),\n",
        "    'SVC': SVC(),\n",
        "    'KNN': KNeighborsClassifier(),\n",
        "    'GaussianNB': GaussianNB()\n",
        "}\n",
        "\n",
        "# K-Fold Cross-Validation\n",
        "kf = KFold(n_splits=n_splits, shuffle=True, random_state=101)\n",
        "for train_index, test_index in kf.split(X_train_combined):\n",
        "    X_train, X_test = X_train_combined.iloc[train_index], X_train_combined.iloc[test_index]\n",
        "    y_train, y_test = y_train_combined.iloc[train_index], y_train_combined.iloc[test_index]\n",
        "\n",
        "    for model_name, model in models.items():\n",
        "        model.fit(X_train, y_train)\n",
        "        y_pred = model.predict(X_test)\n",
        "        accuracy = accuracy_score(y_test, y_pred)\n",
        "        accuracy_scores[(model_name, 'KFold')].append(accuracy)\n",
        "\n",
        "\n",
        "for (model_name, cv_type), accuracies in accuracy_scores.items():\n",
        "    average_accuracy = sum(accuracies) / len(accuracies)\n",
        "    print(f'{model_name} - {cv_type} - Average Accuracy: {average_accuracy:.2f}')\n"
      ]
    },
    {
      "cell_type": "code",
      "execution_count": 45,
      "metadata": {},
      "outputs": [
        {
          "name": "stdout",
          "output_type": "stream",
          "text": [
            "RandomForestClassifier - StratifiedKFold - Average Accuracy: 0.78\n",
            "DecisionTreeClassifier - StratifiedKFold - Average Accuracy: 0.78\n",
            "LogisticRegression - StratifiedKFold - Average Accuracy: 0.68\n",
            "SVC - StratifiedKFold - Average Accuracy: 0.73\n",
            "KNN - StratifiedKFold - Average Accuracy: 0.73\n",
            "GaussianNB - StratifiedKFold - Average Accuracy: 0.68\n"
          ]
        }
      ],
      "source": [
        "# Stratified K-Fold Cross-Validation\n",
        "\n",
        "# Dictionary to store accuracy scores\n",
        "accuracy_scores = defaultdict(list)\n",
        "skf = StratifiedKFold(n_splits=n_splits, shuffle=True, random_state=101)\n",
        "for train_index, test_index in skf.split(X_train_combined, y_train_combined):\n",
        "    X_train, X_test = X_train_combined.iloc[train_index], X_train_combined.iloc[test_index]\n",
        "    y_train, y_test = y_train_combined.iloc[train_index], y_train_combined.iloc[test_index]\n",
        "\n",
        "    for model_name, model in models.items():\n",
        "        model.fit(X_train, y_train)\n",
        "        y_pred = model.predict(X_test)\n",
        "        accuracy = accuracy_score(y_test, y_pred)\n",
        "        accuracy_scores[(model_name, 'StratifiedKFold')].append(accuracy)\n",
        "\n",
        "# Print average accuracy results\n",
        "for (model_name, cv_type), accuracies in accuracy_scores.items():\n",
        "    average_accuracy = sum(accuracies) / len(accuracies)\n",
        "    print(f'{model_name} - {cv_type} - Average Accuracy: {average_accuracy:.2f}')\n"
      ]
    },
    {
      "cell_type": "code",
      "execution_count": 57,
      "metadata": {},
      "outputs": [
        {
          "name": "stdout",
          "output_type": "stream",
          "text": [
            "RandomForestClassifier - LeaveOneOut - Average Accuracy: 0.84\n",
            "DecisionTreeClassifier - LeaveOneOut - Average Accuracy: 0.84\n",
            "LogisticRegression - LeaveOneOut - Average Accuracy: 0.68\n",
            "SVC - LeaveOneOut - Average Accuracy: 0.74\n",
            "KNeighborsClassifier - LeaveOneOut - Average Accuracy: 0.78\n",
            "GaussianNB - LeaveOneOut - Average Accuracy: 0.68\n"
          ]
        }
      ],
      "source": [
        "# Leave-One-Out Cross-Validation\n",
        "\n",
        "loo = LeaveOneOut()\n",
        "accuracy_scores = {\n",
        "    ('RandomForestClassifier', 'LeaveOneOut'): [],\n",
        "    ('DecisionTreeClassifier', 'LeaveOneOut'): [],\n",
        "    ('LogisticRegression', 'LeaveOneOut'): [],\n",
        "    ('SVC', 'LeaveOneOut'): [],\n",
        "    ('KNeighborsClassifier', 'LeaveOneOut'): [], \n",
        "    ('GaussianNB', 'LeaveOneOut'): []\n",
        "}\n",
        "\n",
        "# Fit the models outside the loop\n",
        "for model in models.values():\n",
        "    model.fit(X_train_combined, y_train_combined)\n",
        "\n",
        "for train_index, test_index in loo.split(X_train_combined):\n",
        "    X_train, X_test = X_train_combined.iloc[train_index], X_train_combined.iloc[test_index]\n",
        "    y_train, y_test = y_train_combined.iloc[train_index], y_train_combined.iloc[test_index]\n",
        "\n",
        "    for model_name, model in models.items():\n",
        "        y_pred = model.predict(X_test)\n",
        "        accuracy = accuracy_score(y_test, y_pred)\n",
        "        accuracy_scores[(model_name, 'LeaveOneOut')].append(accuracy)\n",
        "\n",
        "# Print average accuracy results\n",
        "for (model_name, cv_type), accuracies in accuracy_scores.items():\n",
        "    average_accuracy = sum(accuracies) / len(accuracies)\n",
        "    print(f'{model_name} - {cv_type} - Average Accuracy: {average_accuracy:.2f}')\n"
      ]
    }
  ],
  "metadata": {
    "colab": {
      "provenance": []
    },
    "kernelspec": {
      "display_name": "Python 3",
      "name": "python3"
    },
    "language_info": {
      "codemirror_mode": {
        "name": "ipython",
        "version": 3
      },
      "file_extension": ".py",
      "mimetype": "text/x-python",
      "name": "python",
      "nbconvert_exporter": "python",
      "pygments_lexer": "ipython3",
      "version": "3.11.4"
    }
  },
  "nbformat": 4,
  "nbformat_minor": 0
}
